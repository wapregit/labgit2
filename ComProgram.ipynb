{
  "nbformat": 4,
  "nbformat_minor": 0,
  "metadata": {
    "colab": {
      "name": "ComProgram.ipynb",
      "provenance": [],
      "collapsed_sections": [],
      "toc_visible": true,
      "include_colab_link": true
    },
    "kernelspec": {
      "name": "python3",
      "display_name": "Python 3"
    },
    "language_info": {
      "name": "python"
    }
  },
  "cells": [
    {
      "cell_type": "markdown",
      "metadata": {
        "id": "view-in-github",
        "colab_type": "text"
      },
      "source": [
        "<a href=\"https://colab.research.google.com/github/fastalways/GitTest/blob/master/ComProgram.ipynb\" target=\"_parent\"><img src=\"https://colab.research.google.com/assets/colab-badge.svg\" alt=\"Open In Colab\"/></a>"
      ]
    },
    {
      "cell_type": "markdown",
      "metadata": {
        "id": "bQzm5pyA_NWe"
      },
      "source": [
        "##ด.ช. พงศกร เจริญเนตรกุล \n",
        "## ชื่อเล่น **กร**\n",
        "### **รหัสนักศึกษา** 4524140026-4\n",
        "\n",
        "*   จบจากโรงเรียนมหาวชิราวุธ\n",
        "> บล็อกที่มีการเยื้อง\n",
        "\n",
        "> บล็อกที่มีการเยื้อง\n",
        "\n"
      ]
    },
    {
      "cell_type": "code",
      "metadata": {
        "colab": {
          "base_uri": "https://localhost:8080/"
        },
        "id": "Ehn9k1n7D5Dj",
        "outputId": "0c150b13-968c-418d-bccc-2c71a31ca20e"
      },
      "source": [
        "%%writefile lab.c\n",
        "#include<stdio.h>\n",
        "\n",
        "int main()\n",
        "{\n",
        "    char name[200];\n",
        "    printf(\"Enter your name:\"); scanf(\"%199[^\\n]s\",name);\n",
        "    printf(\"Hello %s\",name);\n",
        "    return 0;\n",
        "}"
      ],
      "execution_count": null,
      "outputs": [
        {
          "output_type": "stream",
          "text": [
            "Overwriting lab.c\n"
          ],
          "name": "stdout"
        }
      ]
    },
    {
      "cell_type": "code",
      "metadata": {
        "colab": {
          "base_uri": "https://localhost:8080/"
        },
        "id": "DExTzH-NFP_m",
        "outputId": "dc7d258b-dec1-4395-b40a-94ad5e897ebd"
      },
      "source": [
        "%%shell\n",
        "gcc -Wall lab.c -o run"
      ],
      "execution_count": null,
      "outputs": [
        {
          "output_type": "execute_result",
          "data": {
            "text/plain": [
              ""
            ]
          },
          "metadata": {
            "tags": []
          },
          "execution_count": 9
        }
      ]
    },
    {
      "cell_type": "code",
      "metadata": {
        "colab": {
          "base_uri": "https://localhost:8080/"
        },
        "id": "j8xC8KIaFiPW",
        "outputId": "31986e72-eae6-4bb8-f7a2-6744849eced1"
      },
      "source": [
        "%%shell\n",
        "./run"
      ],
      "execution_count": null,
      "outputs": [
        {
          "output_type": "stream",
          "text": [
            "Enter your name:GORNNNNNNNNNNNNNNNNNNNNNNNNNN\n",
            "Hello GORNNNNNNNNNNNNNNNNNNNNNNNNNN"
          ],
          "name": "stdout"
        },
        {
          "output_type": "execute_result",
          "data": {
            "text/plain": [
              ""
            ]
          },
          "metadata": {
            "tags": []
          },
          "execution_count": 10
        }
      ]
    },
    {
      "cell_type": "code",
      "metadata": {
        "id": "73kbC42_yE4D",
        "colab": {
          "base_uri": "https://localhost:8080/"
        },
        "outputId": "c5c2ee0b-4b55-4a42-cc62-1393eaef30a3"
      },
      "source": [
        "%%writefile variable.c\n",
        "#include <stdio.h>\n",
        "\n",
        "int main()\n",
        "{\n",
        "    int gorn=24;\n",
        "    float gpa=3.99;\n",
        "    char name[]=\"pongsagorn\";\n",
        "    printf(\"age = %d \\n\",gorn);\n",
        "    printf(\"GPA %f ว้าวๆได้เกรดเยอะจัง\\n\",gpa);\n",
        "    printf(\"ชื่อกระผมงับ -> %s \\n\",name);\n",
        "}"
      ],
      "execution_count": null,
      "outputs": [
        {
          "output_type": "stream",
          "text": [
            "Overwriting variable.c\n"
          ],
          "name": "stdout"
        }
      ]
    },
    {
      "cell_type": "code",
      "metadata": {
        "id": "gjxMLu8V0PFV"
      },
      "source": [
        "%%shell\n",
        "gcc -Wall variable.c -o run"
      ],
      "execution_count": null,
      "outputs": []
    },
    {
      "cell_type": "code",
      "metadata": {
        "id": "b8aiSFLP0agH"
      },
      "source": [
        "%%shell\n",
        "./run"
      ],
      "execution_count": null,
      "outputs": []
    },
    {
      "cell_type": "markdown",
      "metadata": {
        "id": "KGV_lMuEwO7b"
      },
      "source": [
        "## Lab 05"
      ]
    },
    {
      "cell_type": "code",
      "metadata": {
        "colab": {
          "base_uri": "https://localhost:8080/"
        },
        "id": "x9-xjBGjwo6H",
        "outputId": "fa76e3b5-a530-4217-c577-d7f72e2b3e00"
      },
      "source": [
        "%%writefile lab.c\n",
        "#include <stdio.h>\n",
        "\n",
        "int main()\n",
        "{\n",
        "    char name[200]=\"Pongsagorn Chlearnnetkul\";\n",
        "    char nickname[50]=\"GORN\";\n",
        "    char std_id[20]=\"435254140026-4\";\n",
        "    int age=27;\n",
        "    float GPA=3.99;\n",
        "    printf(\"My name is %s. \\n\",name); // My name is Pongsagorn Chlearnnetkul.\n",
        "    printf(\"My nickname is %s. \\n\",nickname);\n",
        "    printf(\"My student id : %s. \\n\",std_id);\n",
        "    printf(\"I'm %d years old. \\n\",age);\n",
        "    printf(\"My GPA is %.1f. \\n\",GPA);\n",
        "}"
      ],
      "execution_count": null,
      "outputs": [
        {
          "output_type": "stream",
          "text": [
            "Overwriting lab.c\n"
          ],
          "name": "stdout"
        }
      ]
    },
    {
      "cell_type": "code",
      "metadata": {
        "colab": {
          "base_uri": "https://localhost:8080/"
        },
        "id": "BD7o9AXNzdh0",
        "outputId": "e040f60d-03fe-4124-f45a-f0f2408a4192"
      },
      "source": [
        "%%shell\n",
        "gcc -Wall lab.c -o lab\n",
        "./lab"
      ],
      "execution_count": null,
      "outputs": [
        {
          "output_type": "stream",
          "text": [
            "My name is Pongsagorn Chlearnnetkul. \n",
            "My nickname is GORN. \n",
            "My student id : 435254140026-4. \n",
            "I'm 27 years old. \n",
            "My GPA is 4.0. \n"
          ],
          "name": "stdout"
        },
        {
          "output_type": "execute_result",
          "data": {
            "text/plain": [
              ""
            ]
          },
          "metadata": {},
          "execution_count": 13
        }
      ]
    },
    {
      "cell_type": "markdown",
      "metadata": {
        "id": "Ubj8Q4LvO2nl"
      },
      "source": [
        "## Lab 06"
      ]
    },
    {
      "cell_type": "code",
      "metadata": {
        "id": "MI42Jdl9PAU9",
        "colab": {
          "base_uri": "https://localhost:8080/"
        },
        "outputId": "01335d1d-28e7-4acd-aadb-40438c0afe26"
      },
      "source": [
        "%%writefile lab.c\n",
        "#include <stdio.h>\n",
        "#include <string.h>\n",
        "#include <stdlib.h>\n",
        "int main()\n",
        "{\n",
        "    int num;\n",
        "    float abc;\n",
        "    char c;\n",
        "    double average;\n",
        "    char name[100];\n",
        "    num = 40;\n",
        "    printf(\"(1) num -> %d \\n\",num);\n",
        "    abc = 3.14159;\n",
        "    printf(\"(2) abc -> %.4f \\n\",abc);\n",
        "    c = '4';\n",
        "    printf(\"(3) c -> %c \\n\",c);\n",
        "    average = 3.91818383918389;\n",
        "    printf(\"(4) average -> %.14f \\n\",average);\n",
        "    strcpy(name,\"Pongsagorn Chalearnnetkul\");\n",
        "    printf(\"(5) name -> %s \\n\",name);\n",
        "    /*??????Bonus*/\n",
        "    printf(\"Input num <- \"); scanf(\"%d\",&num);fflush(stdin);\n",
        "    printf(\"Input abc <- \"); scanf(\"%f\",&abc);fflush(stdin);\n",
        "    printf(\"Input c <- \"); scanf(\"%c\",&c); fflush(stdin);\n",
        "    printf(\"Input average <- \"); scanf(\"%lf\",&average);fflush(stdin);\n",
        "    printf(\"Input name <- \"); scanf(\"%[^\\n]s\",name);fflush(stdin);\n",
        "    // ??? printf ???????????????\n",
        "    printf(\"(1) num -> %d \\n\",num);\n",
        "    printf(\"(2) abc -> %.4f \\n\",abc);\n",
        "    printf(\"(3) c -> %c \\n\",c);\n",
        "    printf(\"(4) average -> %.14f \\n\",average);\n",
        "    printf(\"(5) name -> %s\",name);\n",
        "}"
      ],
      "execution_count": null,
      "outputs": [
        {
          "output_type": "stream",
          "name": "stdout",
          "text": [
            "Overwriting lab.c\n"
          ]
        }
      ]
    },
    {
      "cell_type": "code",
      "metadata": {
        "id": "zC23GED-RXQA",
        "colab": {
          "base_uri": "https://localhost:8080/",
          "height": 446
        },
        "outputId": "f5dca91e-46c2-4362-f8b8-a4ec7b14bb46"
      },
      "source": [
        "%%shell\n",
        "gcc -Wall lab.c -o lab\n",
        "./lab"
      ],
      "execution_count": null,
      "outputs": [
        {
          "output_type": "stream",
          "name": "stdout",
          "text": [
            "(1) num -> 40 \n",
            "(2) abc -> 3.1416 \n",
            "(3) c -> 4 \n",
            "(4) average -> 3.91818383918389 \n",
            "(5) name -> Pongsagorn Chalearnnetkul \n",
            "Input num <- "
          ]
        },
        {
          "output_type": "error",
          "ename": "CalledProcessError",
          "evalue": "ignored",
          "traceback": [
            "\u001b[0;31m---------------------------------------------------------------------------\u001b[0m",
            "\u001b[0;31mCalledProcessError\u001b[0m                        Traceback (most recent call last)",
            "\u001b[0;32m<ipython-input-66-62a76e286042>\u001b[0m in \u001b[0;36m<module>\u001b[0;34m()\u001b[0m\n\u001b[0;32m----> 1\u001b[0;31m \u001b[0mget_ipython\u001b[0m\u001b[0;34m(\u001b[0m\u001b[0;34m)\u001b[0m\u001b[0;34m.\u001b[0m\u001b[0mrun_cell_magic\u001b[0m\u001b[0;34m(\u001b[0m\u001b[0;34m'shell'\u001b[0m\u001b[0;34m,\u001b[0m \u001b[0;34m''\u001b[0m\u001b[0;34m,\u001b[0m \u001b[0;34m'gcc -Wall lab.c -o lab\\n./lab'\u001b[0m\u001b[0;34m)\u001b[0m\u001b[0;34m\u001b[0m\u001b[0;34m\u001b[0m\u001b[0m\n\u001b[0m",
            "\u001b[0;32m/usr/local/lib/python3.7/dist-packages/IPython/core/interactiveshell.py\u001b[0m in \u001b[0;36mrun_cell_magic\u001b[0;34m(self, magic_name, line, cell)\u001b[0m\n\u001b[1;32m   2115\u001b[0m             \u001b[0mmagic_arg_s\u001b[0m \u001b[0;34m=\u001b[0m \u001b[0mself\u001b[0m\u001b[0;34m.\u001b[0m\u001b[0mvar_expand\u001b[0m\u001b[0;34m(\u001b[0m\u001b[0mline\u001b[0m\u001b[0;34m,\u001b[0m \u001b[0mstack_depth\u001b[0m\u001b[0;34m)\u001b[0m\u001b[0;34m\u001b[0m\u001b[0;34m\u001b[0m\u001b[0m\n\u001b[1;32m   2116\u001b[0m             \u001b[0;32mwith\u001b[0m \u001b[0mself\u001b[0m\u001b[0;34m.\u001b[0m\u001b[0mbuiltin_trap\u001b[0m\u001b[0;34m:\u001b[0m\u001b[0;34m\u001b[0m\u001b[0;34m\u001b[0m\u001b[0m\n\u001b[0;32m-> 2117\u001b[0;31m                 \u001b[0mresult\u001b[0m \u001b[0;34m=\u001b[0m \u001b[0mfn\u001b[0m\u001b[0;34m(\u001b[0m\u001b[0mmagic_arg_s\u001b[0m\u001b[0;34m,\u001b[0m \u001b[0mcell\u001b[0m\u001b[0;34m)\u001b[0m\u001b[0;34m\u001b[0m\u001b[0;34m\u001b[0m\u001b[0m\n\u001b[0m\u001b[1;32m   2118\u001b[0m             \u001b[0;32mreturn\u001b[0m \u001b[0mresult\u001b[0m\u001b[0;34m\u001b[0m\u001b[0;34m\u001b[0m\u001b[0m\n\u001b[1;32m   2119\u001b[0m \u001b[0;34m\u001b[0m\u001b[0m\n",
            "\u001b[0;32m/usr/local/lib/python3.7/dist-packages/google/colab/_system_commands.py\u001b[0m in \u001b[0;36m_shell_cell_magic\u001b[0;34m(args, cmd)\u001b[0m\n\u001b[1;32m    111\u001b[0m   \u001b[0mresult\u001b[0m \u001b[0;34m=\u001b[0m \u001b[0m_run_command\u001b[0m\u001b[0;34m(\u001b[0m\u001b[0mcmd\u001b[0m\u001b[0;34m,\u001b[0m \u001b[0mclear_streamed_output\u001b[0m\u001b[0;34m=\u001b[0m\u001b[0;32mFalse\u001b[0m\u001b[0;34m)\u001b[0m\u001b[0;34m\u001b[0m\u001b[0;34m\u001b[0m\u001b[0m\n\u001b[1;32m    112\u001b[0m   \u001b[0;32mif\u001b[0m \u001b[0;32mnot\u001b[0m \u001b[0mparsed_args\u001b[0m\u001b[0;34m.\u001b[0m\u001b[0mignore_errors\u001b[0m\u001b[0;34m:\u001b[0m\u001b[0;34m\u001b[0m\u001b[0;34m\u001b[0m\u001b[0m\n\u001b[0;32m--> 113\u001b[0;31m     \u001b[0mresult\u001b[0m\u001b[0;34m.\u001b[0m\u001b[0mcheck_returncode\u001b[0m\u001b[0;34m(\u001b[0m\u001b[0;34m)\u001b[0m\u001b[0;34m\u001b[0m\u001b[0;34m\u001b[0m\u001b[0m\n\u001b[0m\u001b[1;32m    114\u001b[0m   \u001b[0;32mreturn\u001b[0m \u001b[0mresult\u001b[0m\u001b[0;34m\u001b[0m\u001b[0;34m\u001b[0m\u001b[0m\n\u001b[1;32m    115\u001b[0m \u001b[0;34m\u001b[0m\u001b[0m\n",
            "\u001b[0;32m/usr/local/lib/python3.7/dist-packages/google/colab/_system_commands.py\u001b[0m in \u001b[0;36mcheck_returncode\u001b[0;34m(self)\u001b[0m\n\u001b[1;32m    137\u001b[0m     \u001b[0;32mif\u001b[0m \u001b[0mself\u001b[0m\u001b[0;34m.\u001b[0m\u001b[0mreturncode\u001b[0m\u001b[0;34m:\u001b[0m\u001b[0;34m\u001b[0m\u001b[0;34m\u001b[0m\u001b[0m\n\u001b[1;32m    138\u001b[0m       raise subprocess.CalledProcessError(\n\u001b[0;32m--> 139\u001b[0;31m           returncode=self.returncode, cmd=self.args, output=self.output)\n\u001b[0m\u001b[1;32m    140\u001b[0m \u001b[0;34m\u001b[0m\u001b[0m\n\u001b[1;32m    141\u001b[0m   \u001b[0;32mdef\u001b[0m \u001b[0m_repr_pretty_\u001b[0m\u001b[0;34m(\u001b[0m\u001b[0mself\u001b[0m\u001b[0;34m,\u001b[0m \u001b[0mp\u001b[0m\u001b[0;34m,\u001b[0m \u001b[0mcycle\u001b[0m\u001b[0;34m)\u001b[0m\u001b[0;34m:\u001b[0m  \u001b[0;31m# pylint:disable=unused-argument\u001b[0m\u001b[0;34m\u001b[0m\u001b[0;34m\u001b[0m\u001b[0m\n",
            "\u001b[0;31mCalledProcessError\u001b[0m: Command 'gcc -Wall lab.c -o lab\n./lab' died with <Signals.SIGINT: 2>."
          ]
        }
      ]
    },
    {
      "cell_type": "code",
      "metadata": {
        "id": "ypyu9B27qSLR"
      },
      "source": [
        ""
      ],
      "execution_count": null,
      "outputs": []
    },
    {
      "cell_type": "markdown",
      "metadata": {
        "id": "Kr8WDNozid5j"
      },
      "source": [
        "## Lab 07"
      ]
    },
    {
      "cell_type": "code",
      "metadata": {
        "colab": {
          "base_uri": "https://localhost:8080/"
        },
        "id": "CLuSyfyEihoR",
        "outputId": "3c816571-6f9a-40be-d7f4-913f6a87740e"
      },
      "source": [
        "%%writefile lab.c\n",
        "#include <stdio.h>\n",
        "\n",
        "int main()\n",
        "{\n",
        "  char name[1000];// ประกาศตัวแปรเก็บชื่อ\n",
        "  float salary;// ประกาศตัวแปรเก็บเงินเดือน\n",
        "  int age;// ประกาศตัวแปรอายุ\n",
        "  /* ส่วนของการรับค่า */\n",
        "\tprintf(\"Input name :\"); scanf(\"%[^\\n]s\",name);\n",
        "  printf(\"Input salary :\"); scanf(\"%f\",&salary);\n",
        "  printf(\"Input age :\");scanf(\"%d\",&age);\n",
        "  /* ส่วนของการแสดงผล */\n",
        "  printf(\"Your name is %s \\n\",name);\n",
        "  printf(\"Your salary is %.2f \\n\",salary);\n",
        "  printf(\"Your age is %d\",age);\n",
        "}"
      ],
      "execution_count": null,
      "outputs": [
        {
          "output_type": "stream",
          "name": "stdout",
          "text": [
            "Overwriting lab.c\n"
          ]
        }
      ]
    },
    {
      "cell_type": "code",
      "metadata": {
        "colab": {
          "base_uri": "https://localhost:8080/",
          "height": 378
        },
        "id": "RRGXdd9qoaGv",
        "outputId": "0ea34249-402e-4d9f-c405-303517d02892"
      },
      "source": [
        "%%shell\n",
        "gcc -Wall lab.c -o lab\n",
        "./lab"
      ],
      "execution_count": null,
      "outputs": [
        {
          "output_type": "stream",
          "name": "stdout",
          "text": [
            "Input name :"
          ]
        },
        {
          "output_type": "error",
          "ename": "CalledProcessError",
          "evalue": "ignored",
          "traceback": [
            "\u001b[0;31m---------------------------------------------------------------------------\u001b[0m",
            "\u001b[0;31mCalledProcessError\u001b[0m                        Traceback (most recent call last)",
            "\u001b[0;32m<ipython-input-59-3dde8d5bb97b>\u001b[0m in \u001b[0;36m<module>\u001b[0;34m()\u001b[0m\n\u001b[0;32m----> 1\u001b[0;31m \u001b[0mget_ipython\u001b[0m\u001b[0;34m(\u001b[0m\u001b[0;34m)\u001b[0m\u001b[0;34m.\u001b[0m\u001b[0mrun_cell_magic\u001b[0m\u001b[0;34m(\u001b[0m\u001b[0;34m'shell'\u001b[0m\u001b[0;34m,\u001b[0m \u001b[0;34m''\u001b[0m\u001b[0;34m,\u001b[0m \u001b[0;34m'gcc -Wall lab.c -o lab -static-libgcc\\n./lab'\u001b[0m\u001b[0;34m)\u001b[0m\u001b[0;34m\u001b[0m\u001b[0;34m\u001b[0m\u001b[0m\n\u001b[0m",
            "\u001b[0;32m/usr/local/lib/python3.7/dist-packages/IPython/core/interactiveshell.py\u001b[0m in \u001b[0;36mrun_cell_magic\u001b[0;34m(self, magic_name, line, cell)\u001b[0m\n\u001b[1;32m   2115\u001b[0m             \u001b[0mmagic_arg_s\u001b[0m \u001b[0;34m=\u001b[0m \u001b[0mself\u001b[0m\u001b[0;34m.\u001b[0m\u001b[0mvar_expand\u001b[0m\u001b[0;34m(\u001b[0m\u001b[0mline\u001b[0m\u001b[0;34m,\u001b[0m \u001b[0mstack_depth\u001b[0m\u001b[0;34m)\u001b[0m\u001b[0;34m\u001b[0m\u001b[0;34m\u001b[0m\u001b[0m\n\u001b[1;32m   2116\u001b[0m             \u001b[0;32mwith\u001b[0m \u001b[0mself\u001b[0m\u001b[0;34m.\u001b[0m\u001b[0mbuiltin_trap\u001b[0m\u001b[0;34m:\u001b[0m\u001b[0;34m\u001b[0m\u001b[0;34m\u001b[0m\u001b[0m\n\u001b[0;32m-> 2117\u001b[0;31m                 \u001b[0mresult\u001b[0m \u001b[0;34m=\u001b[0m \u001b[0mfn\u001b[0m\u001b[0;34m(\u001b[0m\u001b[0mmagic_arg_s\u001b[0m\u001b[0;34m,\u001b[0m \u001b[0mcell\u001b[0m\u001b[0;34m)\u001b[0m\u001b[0;34m\u001b[0m\u001b[0;34m\u001b[0m\u001b[0m\n\u001b[0m\u001b[1;32m   2118\u001b[0m             \u001b[0;32mreturn\u001b[0m \u001b[0mresult\u001b[0m\u001b[0;34m\u001b[0m\u001b[0;34m\u001b[0m\u001b[0m\n\u001b[1;32m   2119\u001b[0m \u001b[0;34m\u001b[0m\u001b[0m\n",
            "\u001b[0;32m/usr/local/lib/python3.7/dist-packages/google/colab/_system_commands.py\u001b[0m in \u001b[0;36m_shell_cell_magic\u001b[0;34m(args, cmd)\u001b[0m\n\u001b[1;32m    111\u001b[0m   \u001b[0mresult\u001b[0m \u001b[0;34m=\u001b[0m \u001b[0m_run_command\u001b[0m\u001b[0;34m(\u001b[0m\u001b[0mcmd\u001b[0m\u001b[0;34m,\u001b[0m \u001b[0mclear_streamed_output\u001b[0m\u001b[0;34m=\u001b[0m\u001b[0;32mFalse\u001b[0m\u001b[0;34m)\u001b[0m\u001b[0;34m\u001b[0m\u001b[0;34m\u001b[0m\u001b[0m\n\u001b[1;32m    112\u001b[0m   \u001b[0;32mif\u001b[0m \u001b[0;32mnot\u001b[0m \u001b[0mparsed_args\u001b[0m\u001b[0;34m.\u001b[0m\u001b[0mignore_errors\u001b[0m\u001b[0;34m:\u001b[0m\u001b[0;34m\u001b[0m\u001b[0;34m\u001b[0m\u001b[0m\n\u001b[0;32m--> 113\u001b[0;31m     \u001b[0mresult\u001b[0m\u001b[0;34m.\u001b[0m\u001b[0mcheck_returncode\u001b[0m\u001b[0;34m(\u001b[0m\u001b[0;34m)\u001b[0m\u001b[0;34m\u001b[0m\u001b[0;34m\u001b[0m\u001b[0m\n\u001b[0m\u001b[1;32m    114\u001b[0m   \u001b[0;32mreturn\u001b[0m \u001b[0mresult\u001b[0m\u001b[0;34m\u001b[0m\u001b[0;34m\u001b[0m\u001b[0m\n\u001b[1;32m    115\u001b[0m \u001b[0;34m\u001b[0m\u001b[0m\n",
            "\u001b[0;32m/usr/local/lib/python3.7/dist-packages/google/colab/_system_commands.py\u001b[0m in \u001b[0;36mcheck_returncode\u001b[0;34m(self)\u001b[0m\n\u001b[1;32m    137\u001b[0m     \u001b[0;32mif\u001b[0m \u001b[0mself\u001b[0m\u001b[0;34m.\u001b[0m\u001b[0mreturncode\u001b[0m\u001b[0;34m:\u001b[0m\u001b[0;34m\u001b[0m\u001b[0;34m\u001b[0m\u001b[0m\n\u001b[1;32m    138\u001b[0m       raise subprocess.CalledProcessError(\n\u001b[0;32m--> 139\u001b[0;31m           returncode=self.returncode, cmd=self.args, output=self.output)\n\u001b[0m\u001b[1;32m    140\u001b[0m \u001b[0;34m\u001b[0m\u001b[0m\n\u001b[1;32m    141\u001b[0m   \u001b[0;32mdef\u001b[0m \u001b[0m_repr_pretty_\u001b[0m\u001b[0;34m(\u001b[0m\u001b[0mself\u001b[0m\u001b[0;34m,\u001b[0m \u001b[0mp\u001b[0m\u001b[0;34m,\u001b[0m \u001b[0mcycle\u001b[0m\u001b[0;34m)\u001b[0m\u001b[0;34m:\u001b[0m  \u001b[0;31m# pylint:disable=unused-argument\u001b[0m\u001b[0;34m\u001b[0m\u001b[0;34m\u001b[0m\u001b[0m\n",
            "\u001b[0;31mCalledProcessError\u001b[0m: Command 'gcc -Wall lab.c -o lab -static-libgcc\n./lab' died with <Signals.SIGINT: 2>."
          ]
        }
      ]
    },
    {
      "cell_type": "code",
      "metadata": {
        "colab": {
          "base_uri": "https://localhost:8080/"
        },
        "id": "hiPqemJ3NNo-",
        "outputId": "393881a8-c6d2-4ab4-e5eb-78d81f9ea921"
      },
      "source": [
        "%%writefile lab.c\n",
        "#include <stdio.h>\n",
        "int main()\n",
        "{\n",
        "  int score = 48;\n",
        "  if(score<50) \n",
        "  {\n",
        "      printf(\"Failed!!!\");\n",
        "      printf(\"See you again next semaster.\");\n",
        "  }\n",
        "  else if(score>=50)\n",
        "  {\n",
        "      printf(\"Passed!!!\");\n",
        "  }\n",
        " \n",
        "}\n"
      ],
      "execution_count": null,
      "outputs": [
        {
          "output_type": "stream",
          "name": "stdout",
          "text": [
            "Overwriting lab.c\n"
          ]
        }
      ]
    },
    {
      "cell_type": "code",
      "metadata": {
        "colab": {
          "base_uri": "https://localhost:8080/"
        },
        "id": "dFhuecehOuIX",
        "outputId": "d6b9130c-8bf4-426a-ddc0-5f19ec39c13c"
      },
      "source": [
        "%%shell\n",
        "gcc -Wall lab.c -o lab\n",
        "./lab"
      ],
      "execution_count": null,
      "outputs": [
        {
          "output_type": "stream",
          "name": "stdout",
          "text": [
            "Failed!!!See you again next semaster."
          ]
        },
        {
          "output_type": "execute_result",
          "data": {
            "text/plain": [
              ""
            ]
          },
          "metadata": {},
          "execution_count": 6
        }
      ]
    },
    {
      "cell_type": "markdown",
      "metadata": {
        "id": "nxSnlRiVbp5V"
      },
      "source": [
        "## Lab 08"
      ]
    },
    {
      "cell_type": "code",
      "metadata": {
        "colab": {
          "base_uri": "https://localhost:8080/"
        },
        "id": "Y8HjLc02b1tm",
        "outputId": "d6cd3262-1ffb-4015-88ff-581fd1933576"
      },
      "source": [
        "%%writefile lab.c\n",
        "#include<stdio.h>\n",
        "\n",
        "int main()\n",
        "{\n",
        "    float x;\n",
        "    char grade;\n",
        "    scanf(\"%f\",&x);\n",
        "    if(x>=80) grade = 'G'; // GOOD\n",
        "    else if(x>=50) grade = 'P'; // PASS\n",
        "    else if(x>=0) grade = 'F'; // FAIL\n",
        "    printf(\"%c\",grade);\n",
        "}"
      ],
      "execution_count": null,
      "outputs": [
        {
          "output_type": "stream",
          "name": "stdout",
          "text": [
            "Overwriting lab.c\n"
          ]
        }
      ]
    },
    {
      "cell_type": "markdown",
      "metadata": {
        "id": "yfPgpjX9iMhg"
      },
      "source": [
        "ทดสอบกรณี >= 50"
      ]
    },
    {
      "cell_type": "code",
      "metadata": {
        "colab": {
          "base_uri": "https://localhost:8080/"
        },
        "id": "qtH6dOQ8cCri",
        "outputId": "c68061f7-0795-42e2-e929-393fc0d93f78"
      },
      "source": [
        "%%shell\n",
        "gcc -Wall lab.c -o lab\n",
        "./lab"
      ],
      "execution_count": null,
      "outputs": [
        {
          "output_type": "stream",
          "name": "stdout",
          "text": [
            "50\n",
            "P"
          ]
        },
        {
          "output_type": "execute_result",
          "data": {
            "text/plain": [
              ""
            ]
          },
          "metadata": {},
          "execution_count": 9
        }
      ]
    },
    {
      "cell_type": "markdown",
      "metadata": {
        "id": "UQxxW8b_iR62"
      },
      "source": [
        "ทดสอบกรณี < 50"
      ]
    },
    {
      "cell_type": "code",
      "metadata": {
        "colab": {
          "base_uri": "https://localhost:8080/"
        },
        "id": "U0AKrD_fiC2T",
        "outputId": "1e1243fe-3ec2-4b8b-83f8-49d216f2fdee"
      },
      "source": [
        "%%shell\n",
        "./lab"
      ],
      "execution_count": null,
      "outputs": [
        {
          "output_type": "stream",
          "name": "stdout",
          "text": [
            "40\n",
            "F"
          ]
        },
        {
          "output_type": "execute_result",
          "data": {
            "text/plain": [
              ""
            ]
          },
          "metadata": {},
          "execution_count": 11
        }
      ]
    },
    {
      "cell_type": "markdown",
      "metadata": {
        "id": "Uyese0zwis-_"
      },
      "source": [
        "ทดสอบกรณี G >= 80"
      ]
    },
    {
      "cell_type": "code",
      "metadata": {
        "colab": {
          "base_uri": "https://localhost:8080/"
        },
        "id": "ZRnUeiOYiY1e",
        "outputId": "c737bbdb-8ab7-43b7-af67-1847726c7cc7"
      },
      "source": [
        "%%shell\n",
        "./lab"
      ],
      "execution_count": null,
      "outputs": [
        {
          "output_type": "stream",
          "name": "stdout",
          "text": [
            "90\n",
            "G"
          ]
        },
        {
          "output_type": "execute_result",
          "data": {
            "text/plain": [
              ""
            ]
          },
          "metadata": {},
          "execution_count": 12
        }
      ]
    },
    {
      "cell_type": "markdown",
      "metadata": {
        "id": "5yLFngMDn1v_"
      },
      "source": [
        "## Lab 09"
      ]
    },
    {
      "cell_type": "code",
      "metadata": {
        "colab": {
          "base_uri": "https://localhost:8080/"
        },
        "id": "xIm4fhIToBvA",
        "outputId": "9914b2d9-00f1-4a60-f312-7fdafba26a8e"
      },
      "source": [
        "%%writefile lab.c\n",
        "#include<stdio.h>\n",
        "\n",
        "int main()\n",
        "{\n",
        "    int age;\n",
        "    printf(\"กรุณาใส่อายุของคุณ :\");\n",
        "    scanf(\"%d\",&age);\n",
        "    if(age>=18)\n",
        "    {\n",
        "        printf(\"OK ! go to Website\");\n",
        "    }\n",
        "    else\n",
        "    {\n",
        "        printf(\"No No No 18+ Only\");\n",
        "    }\n",
        "}"
      ],
      "execution_count": null,
      "outputs": [
        {
          "output_type": "stream",
          "name": "stdout",
          "text": [
            "Overwriting lab.c\n"
          ]
        }
      ]
    },
    {
      "cell_type": "code",
      "metadata": {
        "colab": {
          "base_uri": "https://localhost:8080/"
        },
        "id": "m47WRZ-YpUwe",
        "outputId": "6eb3b592-3333-44e6-e665-04fbef934d90"
      },
      "source": [
        "%%shell\n",
        "gcc -Wall lab.c -o lab"
      ],
      "execution_count": null,
      "outputs": [
        {
          "output_type": "execute_result",
          "data": {
            "text/plain": [
              ""
            ]
          },
          "metadata": {},
          "execution_count": 25
        }
      ]
    },
    {
      "cell_type": "markdown",
      "metadata": {
        "id": "6ye5gkH0rCGn"
      },
      "source": [
        "ทดสอบอายุ มากกว่าหรือเท่ากับ 18"
      ]
    },
    {
      "cell_type": "code",
      "metadata": {
        "colab": {
          "base_uri": "https://localhost:8080/"
        },
        "id": "4O-_UFnnpmU1",
        "outputId": "3d9a9b8f-ef05-46b1-d940-00fb6075c2fb"
      },
      "source": [
        "!./lab"
      ],
      "execution_count": null,
      "outputs": [
        {
          "output_type": "stream",
          "name": "stdout",
          "text": [
            "กรุณาใส่อายุของคุณ :18\n",
            "OK ! go to Website"
          ]
        }
      ]
    },
    {
      "cell_type": "markdown",
      "metadata": {
        "id": "sZtyaeSJrMm6"
      },
      "source": [
        "ทดสอบอายุน้อยกว่า 18"
      ]
    },
    {
      "cell_type": "code",
      "metadata": {
        "colab": {
          "base_uri": "https://localhost:8080/"
        },
        "id": "wMndmuWnrPzZ",
        "outputId": "e722b140-2aa1-4434-c68b-8621bdf9d607"
      },
      "source": [
        "!./lab"
      ],
      "execution_count": null,
      "outputs": [
        {
          "output_type": "stream",
          "name": "stdout",
          "text": [
            "กรุณาใส่อายุของคุณ :17\n",
            "No No No 18+ Only"
          ]
        }
      ]
    },
    {
      "cell_type": "markdown",
      "metadata": {
        "id": "PiNZxdsntJoh"
      },
      "source": [
        "## Lab 10"
      ]
    },
    {
      "cell_type": "code",
      "metadata": {
        "colab": {
          "base_uri": "https://localhost:8080/"
        },
        "id": "A5EZnWBgr1Qi",
        "outputId": "e41e9d05-ffc8-42f7-a9e9-d97fbe35fba7"
      },
      "source": [
        "%%writefile lab.c\n",
        "#include<stdio.h>\n",
        "\n",
        "int main()\n",
        "{\n",
        "    float sec1_score,sec2_score,total_score;\n",
        "    printf(\"Enter Score Sec1:\");scanf(\"%f\",&sec1_score);\n",
        "    printf(\"Enter Score Sec2:\");scanf(\"%f\",&sec2_score);\n",
        "    total_score = sec1_score + sec2_score;\n",
        "    printf(\"TOTAL Score = %.2f\",total_score);\n",
        "    if(total_score>=20) printf(\"Passed!!!\");\n",
        "    else printf(\"Failed!!!\");\n",
        "}"
      ],
      "execution_count": null,
      "outputs": [
        {
          "output_type": "stream",
          "name": "stdout",
          "text": [
            "Overwriting lab.c\n"
          ]
        }
      ]
    },
    {
      "cell_type": "code",
      "metadata": {
        "id": "It0pFAThs41R"
      },
      "source": [
        "!gcc -Wall lab.c -o lab"
      ],
      "execution_count": null,
      "outputs": []
    },
    {
      "cell_type": "markdown",
      "metadata": {
        "id": "CItI9SqHwS2Q"
      },
      "source": [
        "ทดสอบกรณีสอบตก"
      ]
    },
    {
      "cell_type": "code",
      "metadata": {
        "colab": {
          "base_uri": "https://localhost:8080/"
        },
        "id": "Pmnzntmes7ne",
        "outputId": "d965daf2-3294-44f7-beb9-56c06fdda505"
      },
      "source": [
        "!./lab"
      ],
      "execution_count": null,
      "outputs": [
        {
          "output_type": "stream",
          "name": "stdout",
          "text": [
            "Enter Score Sec1:10\n",
            "Enter Score Sec2:9.9\n",
            "TOTAL Score = 19.90Failed!!!"
          ]
        }
      ]
    },
    {
      "cell_type": "markdown",
      "metadata": {
        "id": "uuMCQ1h6wXAo"
      },
      "source": [
        "ทดสอบกรณีสอบผ่าน"
      ]
    },
    {
      "cell_type": "code",
      "metadata": {
        "colab": {
          "base_uri": "https://localhost:8080/"
        },
        "id": "VuSIlEJitgxt",
        "outputId": "750adae7-9221-45af-9871-c1a2e8c29b99"
      },
      "source": [
        "!./lab"
      ],
      "execution_count": null,
      "outputs": [
        {
          "output_type": "stream",
          "name": "stdout",
          "text": [
            "Enter Score Sec1:12\n",
            "Enter Score Sec2:8.5\n",
            "TOTAL Score = 20.50Passed!!!"
          ]
        }
      ]
    },
    {
      "cell_type": "markdown",
      "metadata": {
        "id": "Uhd9jav1zt8x"
      },
      "source": [
        "## Lab 11"
      ]
    },
    {
      "cell_type": "code",
      "metadata": {
        "colab": {
          "base_uri": "https://localhost:8080/"
        },
        "id": "qVAoCKDAzx1J",
        "outputId": "d6236d53-3e62-4266-89d4-0251f9a9d183"
      },
      "source": [
        "%%writefile lab.c\n",
        "#include <stdio.h>\n",
        "int main() \n",
        "{\n",
        "  int weight, height;\n",
        "  printf(\"Enter weight(kg): \"); scanf(\"%d\",&weight);\n",
        "  printf(\"Enter height(cm): \"); scanf(\"%d\",&height);\n",
        "  \n",
        "  float hMeter     = height/100.0;\n",
        "  float BMI = (float)weight/(hMeter*hMeter);\n",
        "  \n",
        "  printf(\"Your BMI: %.1f\\n\",BMI);\n",
        "  \n",
        "  if(BMI < 18.5) printf(\"Too Thin\");\n",
        "  else if(BMI < 23) printf(\"Good\");\n",
        "  else if(BMI < 25) printf(\"Little Fat\");\n",
        "  else if(BMI < 30) printf(\"Big Fat\");\n",
        "  else if(BMI >= 30) printf(\"Dangerous Fat\");\n",
        "  return 0;\n",
        "}"
      ],
      "execution_count": null,
      "outputs": [
        {
          "output_type": "stream",
          "name": "stdout",
          "text": [
            "Overwriting lab.c\n"
          ]
        }
      ]
    },
    {
      "cell_type": "code",
      "metadata": {
        "id": "cQTBNamc3RP2"
      },
      "source": [
        "!gcc -Wall lab.c -o lab"
      ],
      "execution_count": null,
      "outputs": []
    },
    {
      "cell_type": "code",
      "metadata": {
        "colab": {
          "base_uri": "https://localhost:8080/"
        },
        "id": "H31khV9I3ZT6",
        "outputId": "54020ed7-5dde-4949-9ce0-1b9dc9da4700"
      },
      "source": [
        "!./lab"
      ],
      "execution_count": null,
      "outputs": [
        {
          "output_type": "stream",
          "name": "stdout",
          "text": [
            "Enter weight(kg): 50\n",
            "Enter height(cm): 170\n",
            "Your BMI: 17.3\n",
            "Too Thin"
          ]
        }
      ]
    },
    {
      "cell_type": "code",
      "metadata": {
        "colab": {
          "base_uri": "https://localhost:8080/"
        },
        "id": "H91UHwEg3jV2",
        "outputId": "b796f491-4100-490f-b2e3-b92ddcf04968"
      },
      "source": [
        "!./lab"
      ],
      "execution_count": null,
      "outputs": [
        {
          "output_type": "stream",
          "name": "stdout",
          "text": [
            "Enter weight(kg): 60\n",
            "Enter height(cm): 170\n",
            "Your BMI: 20.8\n",
            "Good"
          ]
        }
      ]
    },
    {
      "cell_type": "code",
      "metadata": {
        "colab": {
          "base_uri": "https://localhost:8080/"
        },
        "id": "Auy6813b3quw",
        "outputId": "4b10bb99-13bf-49b6-ca99-17b9c1cd53c9"
      },
      "source": [
        "!./lab"
      ],
      "execution_count": null,
      "outputs": [
        {
          "output_type": "stream",
          "name": "stdout",
          "text": [
            "Enter weight(kg): 70\n",
            "Enter height(cm): 170\n",
            "Your BMI: 24.2\n",
            "Little Fat"
          ]
        }
      ]
    },
    {
      "cell_type": "code",
      "metadata": {
        "colab": {
          "base_uri": "https://localhost:8080/"
        },
        "id": "BBCWplcV3wiQ",
        "outputId": "370cfec7-d94a-4ff0-9a13-6f075e15e289"
      },
      "source": [
        "!./lab"
      ],
      "execution_count": null,
      "outputs": [
        {
          "output_type": "stream",
          "name": "stdout",
          "text": [
            "Enter weight(kg): 80\n",
            "Enter height(cm): 170\n",
            "Your BMI: 27.7\n",
            "Big Fat"
          ]
        }
      ]
    },
    {
      "cell_type": "code",
      "metadata": {
        "colab": {
          "base_uri": "https://localhost:8080/"
        },
        "id": "wp3Xng8E31sp",
        "outputId": "62d01fc0-661d-4b12-d661-c65ceac733a6"
      },
      "source": [
        "!./lab"
      ],
      "execution_count": null,
      "outputs": [
        {
          "output_type": "stream",
          "name": "stdout",
          "text": [
            "Enter weight(kg): 90\n",
            "Enter height(cm): 170\n",
            "Your BMI: 31.1\n",
            "Dangerous Fat"
          ]
        }
      ]
    },
    {
      "cell_type": "markdown",
      "metadata": {
        "id": "83sp9kLeio-Y"
      },
      "source": [
        "## Lab 11.1"
      ]
    },
    {
      "cell_type": "code",
      "metadata": {
        "colab": {
          "base_uri": "https://localhost:8080/"
        },
        "id": "KJQwdyCqisGi",
        "outputId": "3d0f8f5b-076d-4908-e88c-6e0cea769678"
      },
      "source": [
        "%%writefile lab.c\n",
        "#include <stdio.h>\n",
        "\n",
        "int main()\n",
        "{\n",
        "    int Submarine,Missile,Panzer,MiG;\n",
        "    // ประกาศตัวแปรเพื่อเก็บราคาแต่ะลชนิด\n",
        "    float pSubmarine = 4.5,pMissile =1.6,pPanzer=1.1,pMiG=6.3;\n",
        "\n",
        "    printf(\"====================   ยินดีต้อนรับเข้าสู่ ร้าน Millitary Toy   ====================\\n\\n\");\n",
        "    printf(\"รายการสินค้าทั้งหมด \\n\");\n",
        "    printf(\"Submarine \\t\\t 4.5 billion\\nMissile tank \\t\\t 1.6 billion\\nPanzer tank \\t\\t 1.1 billion\\nMiG AirCraft \\t\\t 6.3 billion\");\n",
        "    printf(\"\\nกรุณากรอกจำนวนที่ต้องการสั่งซื้อ Submarine เว้นวรรค MissileTank เว้นวรรค PanzerTank เว้นวรรค MigAirCraft ตามลำดับ: \\n\");\n",
        "    scanf(\"%d %d %d %d\",&Submarine,&Missile,&Panzer,&MiG);\n",
        " \n",
        "    float ALL_Submarine=Submarine*pSubmarine;\n",
        "    float ALL_Missile=Missile*pMissile;\n",
        "    float ALL_Panzer=Panzer*pPanzer;\n",
        "    float ALL_MiG=MiG*pMiG;\n",
        "    printf(\"_______________________________________________________________________\\n\");\n",
        "    printf(\"|\\t รายการ\\t\\t\\t|\\tจำนวน\\t| ราคา \\t| รวม \\t |\\n\");\n",
        "    printf(\"-----------------------------------------------------------------------\\n\");\n",
        "    printf(\"|\\tSubmarine \\t\\t|\\t %3d \\t| %.1f B\\t|  %.1fB\\t|\\n\",Submarine,pSubmarine,ALL_Submarine);\n",
        "    printf(\"|\\tMissile Tank\\t\\t|\\t %3d \\t| %.1f B\\t|  %.1fB\\t|\\n\",Missile,pMissile,ALL_Missile);\n",
        "    printf(\"|\\tPanzer Tank\\t\\t|\\t %3d \\t| %.1f B\\t|  %.1fB\\t|\\n\",Panzer,pPanzer,ALL_Panzer);\n",
        "    printf(\"|\\tMiG AirCraft\\t\\t|\\t %3d \\t| %.1f B\\t|  %.1fB\\t|\\n\",MiG,pMiG,ALL_MiG);\n",
        "    printf(\"________________________________________________________________________\\n\");\n",
        "    float ALL = ALL_Submarine + ALL_Missile + ALL_Panzer + ALL_MiG;\n",
        "    float discount=0;\n",
        "    float Total;\n",
        "    \n",
        "    printf(\"ยอดรวม\\t: %.2f billion\",ALL);\n",
        "    if (ALL >= 100 && ALL <= 200) \n",
        "    {\n",
        "        discount = ALL*7.5/100;\n",
        "        printf(\" (ยอดมากกว่า100Bได้ส่วนลด 7.5%%)\");\n",
        "    }\n",
        "    else if (ALL > 200 && ALL <=400)\n",
        "    {\n",
        "        discount = ALL*10/100;\n",
        "        printf(\" (ยอดมากกว่า200Bได้ส่วนลด 10%%)\");\n",
        "    }\n",
        "    else if (ALL > 400)\n",
        "    {\n",
        "        discount = ALL*15/100;\n",
        "        printf(\" (ยอดมากกว่า400Bได้ส่วนลด 15%%)\");\n",
        "    }\n",
        "    Total = ALL - discount;\n",
        " \n",
        "    printf(\"\\nส่วนลด\\t: %.2f billion\\n\",discount);\n",
        "    printf(\"ยอดสุทธิ\\t: %.2f billion\\n\",Total);\n",
        "    int  bonus_RichardMille = (int)( (ALL_Missile+ALL_Panzer)/50.0 ) * 2;\n",
        "    if (bonus_RichardMille >= 2) \n",
        "    {\n",
        "      printf(\"ยินดีด้วยคุณได้ของแถมนาฬิกา Richard Mille จำนวน %d เรือน จากยอดซื้อรถถัง \",bonus_RichardMille);\n",
        "      printf(\"จากยอดซื้อรถถัง %.1f B\",(ALL_Missile+ALL_Panzer));\n",
        "    }\n",
        "    \n",
        "    return 0;\n",
        "}\n"
      ],
      "execution_count": null,
      "outputs": [
        {
          "output_type": "stream",
          "name": "stdout",
          "text": [
            "Writing lab.c\n"
          ]
        }
      ]
    },
    {
      "cell_type": "code",
      "metadata": {
        "id": "gDfpp9BzkqF2"
      },
      "source": [
        "!gcc -Wall lab.c -o lab"
      ],
      "execution_count": null,
      "outputs": []
    },
    {
      "cell_type": "code",
      "metadata": {
        "colab": {
          "base_uri": "https://localhost:8080/"
        },
        "id": "x-FOFFmTkyRX",
        "outputId": "d98661cc-039e-460c-a002-71d457934223"
      },
      "source": [
        "!./lab"
      ],
      "execution_count": null,
      "outputs": [
        {
          "output_type": "stream",
          "name": "stdout",
          "text": [
            "====================   ยินดีต้อนรับเข้าสู่ ร้าน Millitary Toy   ====================\n",
            "\n",
            "รายการสินค้าทั้งหมด \n",
            "Submarine \t\t 4.5 billion\n",
            "Missile tank \t\t 1.6 billion\n",
            "Panzer tank \t\t 1.1 billion\n",
            "MiG AirCraft \t\t 6.3 billion\n",
            "กรุณากรอกจำนวนที่ต้องการสั่งซื้อ Submarine เว้นวรรค MissileTank เว้นวรรค PanzerTank เว้นวรรค MigAirCraft ตามลำดับ: \n",
            "100 100 100 100\n",
            "_______________________________________________________________________\n",
            "|\t รายการ\t\t\t|\tจำนวน\t| ราคา \t| รวม \t |\n",
            "-----------------------------------------------------------------------\n",
            "|\tSubmarine \t\t|\t 100 \t| 4.5 B\t|  450.0B\t|\n",
            "|\tMissile Tank\t\t|\t 100 \t| 1.6 B\t|  160.0B\t|\n",
            "|\tPanzer Tank\t\t|\t 100 \t| 1.1 B\t|  110.0B\t|\n",
            "|\tMiG AirCraft\t\t|\t 100 \t| 6.3 B\t|  630.0B\t|\n",
            "________________________________________________________________________\n",
            "ยอดรวม\t: 1350.00 billion (ยอดมากกว่า400Bได้ส่วนลด 15%)\n",
            "ส่วนลด\t: 202.50 billion\n",
            "ยอดสุทธิ\t: 1147.50 billion\n",
            "ยินดีด้วยคุณได้ของแถมนาฬิกา Richard Mille จำนวน 10 เรือน จากยอดซื้อรถถัง จากยอดซื้อรถถัง 270.0 B"
          ]
        }
      ]
    },
    {
      "cell_type": "markdown",
      "metadata": {
        "id": "vEdzawiH7Ax6"
      },
      "source": [
        "## Lab 12"
      ]
    },
    {
      "cell_type": "code",
      "metadata": {
        "colab": {
          "base_uri": "https://localhost:8080/"
        },
        "id": "Zcc56kRY-0k_",
        "outputId": "164acbfe-f651-4726-c847-bbc35511cfc8"
      },
      "source": [
        "%%writefile lab.c\n",
        "#include <stdio.h>\n",
        "int main() \n",
        "{\n",
        "  int menu;\n",
        "  printf(\"Menu \\n\");\n",
        "  printf(\"กด 1 สั่งส้มตำ\\n\");\n",
        "  printf(\"กด 2 สั่งไก่ย่าง\\n\");\n",
        "  printf(\"กด 3 สั่งข้าวเหนียว\\n\");\n",
        "  printf(\"กรุณากดตัวเลขเพื่อสั่งอาหารตามเมนู :\");\n",
        "  scanf(\"%d\",&menu);\n",
        "  switch(menu)\n",
        "  {\n",
        "      case 1: printf(\"คุณได้สั่งส้มตำเรียบร้อยแล้ว\"); break;\n",
        "      case 2: printf(\"คุณได้สั่งไก่ย่างเรียบร้อยแล้ว\"); break;\n",
        "      case 3: printf(\"คุณได้สั่งข้าวเหนียวเรียบร้อยแล้ว\"); break;\n",
        "      default : printf(\"คุณสั่งเมนูที่ไม่มีอยู่ค่ะ กรุณากดสั่งใหม่\");\n",
        "  }\n",
        "  printf(\"\\n ขอบคุณที่ใช้บริการ\");\n",
        "  return 0;\n",
        "}"
      ],
      "execution_count": null,
      "outputs": [
        {
          "output_type": "stream",
          "name": "stdout",
          "text": [
            "Overwriting lab.c\n"
          ]
        }
      ]
    },
    {
      "cell_type": "code",
      "metadata": {
        "id": "2L_il6s77zXV"
      },
      "source": [
        "!gcc -Wall lab.c -o lab"
      ],
      "execution_count": null,
      "outputs": []
    },
    {
      "cell_type": "code",
      "metadata": {
        "colab": {
          "base_uri": "https://localhost:8080/"
        },
        "id": "5i39_WJU77_3",
        "outputId": "e1b92ace-0b31-4959-8550-58cec5f7c051"
      },
      "source": [
        "!./lab"
      ],
      "execution_count": null,
      "outputs": [
        {
          "output_type": "stream",
          "name": "stdout",
          "text": [
            "Menu \n",
            "กด 1 สั่งส้มตำ\n",
            "กด 2 สั่งไก่ย่าง\n",
            "กด 3 สั่งข้าวเหนียว\n",
            "กรุณากดตัวเลขเพื่อสั่งอาหารตามเมนู :1\n",
            "คุณได้สั่งส้มตำเรียบร้อยแล้ว\n",
            " ขอบคุณที่ใช้บริการ"
          ]
        }
      ]
    },
    {
      "cell_type": "markdown",
      "metadata": {
        "id": "uH4_grvv_O3m"
      },
      "source": [
        "## Lab 13"
      ]
    },
    {
      "cell_type": "code",
      "metadata": {
        "colab": {
          "base_uri": "https://localhost:8080/"
        },
        "id": "E08k4x3UBX1A",
        "outputId": "ea9f66ef-4dd9-4b21-a002-80a297e2cf8f"
      },
      "source": [
        "%%writefile lab.c\n",
        "#include <stdio.h>\n",
        "int main() \n",
        "{\n",
        "  char menu;\n",
        "  printf(\"Menu \\n\");\n",
        "  printf(\"กด 1 สั่งส้มตำ\\n\");\n",
        "  printf(\"กด 2 สั่งไก่ย่าง\\n\");\n",
        "  printf(\"กด 3 สั่งข้าวเหนียว\\n\");\n",
        "  printf(\"กรุณากดตัวเลขเพื่อสั่งอาหารตามเมนู :\");\n",
        "  scanf(\"%c\",&menu);\n",
        "  switch(menu)\n",
        "  {\n",
        "      //ส้มตำ\n",
        "      case '1': \n",
        "      case 'a': \n",
        "      case 'A': printf(\"คุณได้สั่งส้มตำเรียบร้อยแล้ว\"); break;\n",
        "      //ไก่ย่าง\n",
        "      case '2': \n",
        "      case 'b': \n",
        "      case 'B': printf(\"คุณได้สั่งไก่ย่างเรียบร้อยแล้ว\"); break;\n",
        "      //เหนียว\n",
        "      case '3': \n",
        "      case 'c': \n",
        "      case 'C': printf(\"คุณได้สั่งข้าวเหนียวเรียบร้อยแล้ว\"); break;\n",
        "      default : printf(\"คุณสั่งเมนูที่ไม่มีอยู่ค่ะ กรุณากดสั่งใหม่\");\n",
        "  }\n",
        "  printf(\"\\n ขอบคุณที่ใช้บริการ\");\n",
        "  return 0;\n",
        "}"
      ],
      "execution_count": null,
      "outputs": [
        {
          "output_type": "stream",
          "name": "stdout",
          "text": [
            "Overwriting lab.c\n"
          ]
        }
      ]
    },
    {
      "cell_type": "code",
      "metadata": {
        "id": "_e5fGCuZC9it"
      },
      "source": [
        "!gcc -Wall lab.c -o lab"
      ],
      "execution_count": null,
      "outputs": []
    },
    {
      "cell_type": "markdown",
      "metadata": {
        "id": "zEjTuQ0EDJn_"
      },
      "source": [
        "ลองทดสอบ 6 เคส"
      ]
    },
    {
      "cell_type": "code",
      "metadata": {
        "colab": {
          "base_uri": "https://localhost:8080/"
        },
        "id": "DnmuAn6HDAUA",
        "outputId": "05e5fc37-d64f-406a-bab0-8391bb8236f2"
      },
      "source": [
        "!./lab"
      ],
      "execution_count": null,
      "outputs": [
        {
          "output_type": "stream",
          "name": "stdout",
          "text": [
            "Menu \n",
            "กด 1 สั่งส้มตำ\n",
            "กด 2 สั่งไก่ย่าง\n",
            "กด 3 สั่งข้าวเหนียว\n",
            "กรุณากดตัวเลขเพื่อสั่งอาหารตามเมนู :a\n",
            "คุณได้สั่งส้มตำเรียบร้อยแล้ว\n",
            " ขอบคุณที่ใช้บริการ"
          ]
        }
      ]
    },
    {
      "cell_type": "markdown",
      "metadata": {
        "id": "zCEloer_407Z"
      },
      "source": [
        "## Lab 14"
      ]
    },
    {
      "cell_type": "code",
      "metadata": {
        "colab": {
          "base_uri": "https://localhost:8080/"
        },
        "id": "oWltfVay44p5",
        "outputId": "36d58eba-4777-4a02-ae2c-dc22a1836c0c"
      },
      "source": [
        "%%writefile lab.c\n",
        "#include <stdio.h>\n",
        "\n",
        "int main()\n",
        "{\n",
        "    int i;\n",
        "    for(i=1;i<=12;i++)\n",
        "    {\n",
        "        printf(\"3 x %d = %d \\n\",i,3*i); // 3 x 1 = 3 ===> 3 x i = 3*i\n",
        "    }\n",
        "}\n"
      ],
      "execution_count": null,
      "outputs": [
        {
          "output_type": "stream",
          "name": "stdout",
          "text": [
            "Overwriting lab.c\n"
          ]
        }
      ]
    },
    {
      "cell_type": "code",
      "metadata": {
        "id": "83cCVzz647do"
      },
      "source": [
        "!gcc -Wall lab.c -o lab"
      ],
      "execution_count": null,
      "outputs": []
    },
    {
      "cell_type": "code",
      "metadata": {
        "colab": {
          "base_uri": "https://localhost:8080/"
        },
        "id": "4gsHp8ob48_N",
        "outputId": "d23fc80b-f2ab-45e3-c1a2-8774b3c0804c"
      },
      "source": [
        "!./lab"
      ],
      "execution_count": null,
      "outputs": [
        {
          "output_type": "stream",
          "name": "stdout",
          "text": [
            "3 x 1 = 3 \n",
            "3 x 2 = 6 \n",
            "3 x 3 = 9 \n",
            "3 x 4 = 12 \n",
            "3 x 5 = 15 \n",
            "3 x 6 = 18 \n",
            "3 x 7 = 21 \n",
            "3 x 8 = 24 \n",
            "3 x 9 = 27 \n",
            "3 x 10 = 30 \n",
            "3 x 11 = 33 \n",
            "3 x 12 = 36 \n"
          ]
        }
      ]
    },
    {
      "cell_type": "markdown",
      "metadata": {
        "id": "7pqJ4dpe76_D"
      },
      "source": [
        "## Lab 15"
      ]
    },
    {
      "cell_type": "code",
      "metadata": {
        "colab": {
          "base_uri": "https://localhost:8080/"
        },
        "id": "IQLrAK5676Vn",
        "outputId": "4a201c04-a034-4cae-f128-71cfa755548b"
      },
      "source": [
        "%%writefile lab.c\n",
        "#include <stdio.h>\n",
        "\n",
        "int main()\n",
        "{\n",
        "    int i;\n",
        "    for(i=12;i>=1;i--)\n",
        "    {\n",
        "        printf(\"3 x %d = %d \\n\",i,3*i); // 3 x 1 = 3 ===> 3 x i = 3*i\n",
        "    }\n",
        "}"
      ],
      "execution_count": null,
      "outputs": [
        {
          "output_type": "stream",
          "name": "stdout",
          "text": [
            "Overwriting lab.c\n"
          ]
        }
      ]
    },
    {
      "cell_type": "code",
      "metadata": {
        "id": "ukJn9Pth8BMh"
      },
      "source": [
        "!gcc -Wall lab.c -o lab"
      ],
      "execution_count": null,
      "outputs": []
    },
    {
      "cell_type": "code",
      "metadata": {
        "colab": {
          "base_uri": "https://localhost:8080/"
        },
        "id": "2NXd7nai8DBZ",
        "outputId": "554a7bc7-3f32-4258-f1fa-7a8530a4430a"
      },
      "source": [
        "!./lab"
      ],
      "execution_count": null,
      "outputs": [
        {
          "output_type": "stream",
          "name": "stdout",
          "text": [
            "3 x 12 = 36 \n",
            "3 x 11 = 33 \n",
            "3 x 10 = 30 \n",
            "3 x 9 = 27 \n",
            "3 x 8 = 24 \n",
            "3 x 7 = 21 \n",
            "3 x 6 = 18 \n",
            "3 x 5 = 15 \n",
            "3 x 4 = 12 \n",
            "3 x 3 = 9 \n",
            "3 x 2 = 6 \n",
            "3 x 1 = 3 \n"
          ]
        }
      ]
    },
    {
      "cell_type": "markdown",
      "metadata": {
        "id": "s5CLqfVp_hiW"
      },
      "source": [
        "## Lab 16"
      ]
    },
    {
      "cell_type": "code",
      "metadata": {
        "colab": {
          "base_uri": "https://localhost:8080/"
        },
        "id": "Est5T2D3_i7W",
        "outputId": "c894dcc1-a08a-4990-8625-d4d7da0b1e3d"
      },
      "source": [
        "%%writefile lab.c\n",
        "#include <stdio.h>\n",
        "\n",
        "int main()\n",
        "{\n",
        "    int i;\n",
        "    int formula=3;\n",
        "    printf(\"Enter multiply formula :\"); scanf(\"%d\",&formula);\n",
        "    for(i=1;i<=12;i++)\n",
        "    {\n",
        "        printf(\"%d x %d = %d \\n\",formula,i,formula*i); // 3 x 1 = 3 ===> 3 x i = 3*i\n",
        "    }\n",
        "}"
      ],
      "execution_count": null,
      "outputs": [
        {
          "output_type": "stream",
          "name": "stdout",
          "text": [
            "Overwriting lab.c\n"
          ]
        }
      ]
    },
    {
      "cell_type": "code",
      "metadata": {
        "id": "6fyD6nkQ_mZc"
      },
      "source": [
        "!gcc -Wall lab.c -o lab"
      ],
      "execution_count": null,
      "outputs": []
    },
    {
      "cell_type": "code",
      "metadata": {
        "colab": {
          "base_uri": "https://localhost:8080/"
        },
        "id": "3x1VkXSs_muM",
        "outputId": "78fe88fd-5488-4c09-931e-c91374130cc6"
      },
      "source": [
        "!./lab"
      ],
      "execution_count": null,
      "outputs": [
        {
          "output_type": "stream",
          "name": "stdout",
          "text": [
            "Enter multiply formula :11\n",
            "11 x 1 = 11 \n",
            "11 x 2 = 22 \n",
            "11 x 3 = 33 \n",
            "11 x 4 = 44 \n",
            "11 x 5 = 55 \n",
            "11 x 6 = 66 \n",
            "11 x 7 = 77 \n",
            "11 x 8 = 88 \n",
            "11 x 9 = 99 \n",
            "11 x 10 = 110 \n",
            "11 x 11 = 121 \n",
            "11 x 12 = 132 \n"
          ]
        }
      ]
    },
    {
      "cell_type": "markdown",
      "metadata": {
        "id": "jfu_bf7hBYHf"
      },
      "source": [
        "## Lab 17"
      ]
    },
    {
      "cell_type": "code",
      "metadata": {
        "id": "pybtrJAqBWoy"
      },
      "source": [
        "%%writefile lab.c\n",
        "#include <stdio.h>\n",
        "\n",
        "int main()\n",
        "{\n",
        "    int i;\n",
        "    int formula=3,start=1,end=12;\n",
        "    printf(\"Enter multiply formula :\"); scanf(\"%d\",&formula);\n",
        "    printf(\"Enter start number : \"); scanf(\"%d\",&start);\n",
        "    printf(\"Enter end number : \"); scanf(\"%d\",&end);\n",
        "    for(i=___;i<=____;i++)\n",
        "    {\n",
        "        printf(\"%d x %d = %d \\n\",formula,i,formula*i); // 3 x 1 = 3 ===> 3 x i = 3*i\n",
        "    }\n",
        "}"
      ],
      "execution_count": null,
      "outputs": []
    },
    {
      "cell_type": "markdown",
      "metadata": {
        "id": "n15kaEpegKy_"
      },
      "source": [
        "## Lab 18"
      ]
    },
    {
      "cell_type": "code",
      "metadata": {
        "colab": {
          "base_uri": "https://localhost:8080/"
        },
        "id": "f8QELjIlgQRU",
        "outputId": "9d491f72-259a-41d7-8909-5ea8f039f416"
      },
      "source": [
        "%%writefile lab.c\n",
        "#include <stdio.h>\n",
        "\n",
        "int main()\n",
        "{\n",
        "    int i=0;\n",
        "    for(i=0;i<=25;i++)\n",
        "      printf(\"%c \\n\",'a'+i);  \n",
        "}"
      ],
      "execution_count": 24,
      "outputs": [
        {
          "output_type": "stream",
          "name": "stdout",
          "text": [
            "Overwriting lab.c\n"
          ]
        }
      ]
    },
    {
      "cell_type": "code",
      "metadata": {
        "colab": {
          "base_uri": "https://localhost:8080/"
        },
        "id": "N8RNql1WjQv7",
        "outputId": "418197c8-7d5b-483a-93b8-a91a535530bb"
      },
      "source": [
        "%%writefile lab.c\n",
        "#include <stdio.h>\n",
        "\n",
        "int main()\n",
        "{\n",
        "    int i=0;\n",
        "    for(i='a';i<='z';i++)\n",
        "      printf(\"%c \\n\",i);  \n",
        "}"
      ],
      "execution_count": 27,
      "outputs": [
        {
          "output_type": "stream",
          "name": "stdout",
          "text": [
            "Overwriting lab.c\n"
          ]
        }
      ]
    },
    {
      "cell_type": "code",
      "metadata": {
        "id": "HtxXqiQxh4m6"
      },
      "source": [
        "!gcc -Wall lab.c -o lab"
      ],
      "execution_count": 28,
      "outputs": []
    },
    {
      "cell_type": "code",
      "metadata": {
        "colab": {
          "base_uri": "https://localhost:8080/"
        },
        "id": "qjVqpXUuiFcW",
        "outputId": "da412494-0c5b-422d-8446-b5345580b85e"
      },
      "source": [
        "!./lab"
      ],
      "execution_count": 29,
      "outputs": [
        {
          "output_type": "stream",
          "name": "stdout",
          "text": [
            "a \n",
            "b \n",
            "c \n",
            "d \n",
            "e \n",
            "f \n",
            "g \n",
            "h \n",
            "i \n",
            "j \n",
            "k \n",
            "l \n",
            "m \n",
            "n \n",
            "o \n",
            "p \n",
            "q \n",
            "r \n",
            "s \n",
            "t \n",
            "u \n",
            "v \n",
            "w \n",
            "x \n",
            "y \n",
            "z \n"
          ]
        }
      ]
    },
    {
      "cell_type": "markdown",
      "metadata": {
        "id": "CSdi9qh7ln5S"
      },
      "source": [
        "## Lab 19"
      ]
    },
    {
      "cell_type": "code",
      "metadata": {
        "colab": {
          "base_uri": "https://localhost:8080/"
        },
        "id": "rYWPXTevlm2u",
        "outputId": "d6338af6-7f17-451c-843f-535eb39f3841"
      },
      "source": [
        "%%writefile lab.c\n",
        "#include <stdio.h>\n",
        "\n",
        "int main()\n",
        "{\n",
        "    int i,j,N;\n",
        "    printf(\"#Loop Star=\"); scanf(\"%d\",&N);\n",
        "    for(i=1;i<=N;i++)\n",
        "    {\n",
        "        //สร้างช่องว่างขึ้นมาเท่ากัน N-i \n",
        "        for(j=1;j<=N-i;j++)\n",
        "        {\n",
        "            printf(\" \");\n",
        "        }\n",
        "        //พิมพ์ * ขึ้นมาจำนวนเท่ากับค่าของตัวแปร i\n",
        "        for(j=1;j<=i;j++)\n",
        "        {\n",
        "            printf(\"*\");\n",
        "        }\n",
        "        printf(\"\\n\");\n",
        "    }\n",
        "}"
      ],
      "execution_count": 59,
      "outputs": [
        {
          "output_type": "stream",
          "name": "stdout",
          "text": [
            "Overwriting lab.c\n"
          ]
        }
      ]
    },
    {
      "cell_type": "code",
      "metadata": {
        "colab": {
          "base_uri": "https://localhost:8080/"
        },
        "id": "Onw7ifffnQZr",
        "outputId": "a5d039b1-2870-44be-a695-1a3a86e7d7d2"
      },
      "source": [
        "!gcc -Wall lab.c -o lab\n",
        "!./lab"
      ],
      "execution_count": 60,
      "outputs": [
        {
          "output_type": "stream",
          "name": "stdout",
          "text": [
            "#Loop Star=6\n",
            "     *\n",
            "    **\n",
            "   ***\n",
            "  ****\n",
            " *****\n",
            "******\n"
          ]
        }
      ]
    },
    {
      "cell_type": "markdown",
      "metadata": {
        "id": "S2tSg_ssuna3"
      },
      "source": [
        "## Lab 19.1"
      ]
    },
    {
      "cell_type": "code",
      "metadata": {
        "colab": {
          "base_uri": "https://localhost:8080/"
        },
        "id": "a1KQ4joPum2s",
        "outputId": "18094d34-b6da-48cd-f45a-5c9b1818fd0b"
      },
      "source": [
        "%%writefile lab.c\n",
        "#include <stdio.h>\n",
        "\n",
        "int main()\n",
        "{\n",
        "    int i;\n",
        "    int sum=0;\n",
        "    // Cumulative Sum\n",
        "    for(i=1;i<=10;i++)\n",
        "    {\n",
        "        sum = sum+i; // สามารถย่อเป็น Compound operator   ->   sum+=i;\n",
        "    }\n",
        "    printf(\"Sum Number 1-10 = %d\",sum);\n",
        "}"
      ],
      "execution_count": 61,
      "outputs": [
        {
          "output_type": "stream",
          "name": "stdout",
          "text": [
            "Overwriting lab.c\n"
          ]
        }
      ]
    },
    {
      "cell_type": "code",
      "metadata": {
        "colab": {
          "base_uri": "https://localhost:8080/"
        },
        "id": "c1Q-C_0twz5a",
        "outputId": "e7b4edf0-0fa0-4bf4-8863-6b1dfef4cbee"
      },
      "source": [
        "%%writefile lab.c\n",
        "#include <stdio.h>\n",
        "\n",
        "int main()\n",
        "{\n",
        "    int i;\n",
        "    int cumu_mul=1;\n",
        "    // Cumulative Multiply - > คูณสะสม\n",
        "    for(i=1;i<=10;i++)\n",
        "    {\n",
        "        if( i==4 || i==7 || i==9) continue; //ไม่เอา 4 7  และ 9 ไม่ต้องเอามาคูณ\n",
        "        cumu_mul*=i; // ตัวเต็ม คือ cumu_mul=cumu_mul*i;\n",
        "    }\n",
        "    printf(\"cumu_mul Number 1-10 (except 4,7,and 9) = %d\",cumu_mul);\n",
        "}"
      ],
      "execution_count": 69,
      "outputs": [
        {
          "output_type": "stream",
          "name": "stdout",
          "text": [
            "Overwriting lab.c\n"
          ]
        }
      ]
    },
    {
      "cell_type": "code",
      "metadata": {
        "colab": {
          "base_uri": "https://localhost:8080/"
        },
        "id": "YJprPiLjwjJH",
        "outputId": "af68115d-c719-43e5-e0ae-86fb423862a5"
      },
      "source": [
        "!gcc -Wall lab.c -o lab\n",
        "!./lab"
      ],
      "execution_count": 70,
      "outputs": [
        {
          "output_type": "stream",
          "name": "stdout",
          "text": [
            "cumu_mul Number 1-10 (except 4,7,and 9) = 14400"
          ]
        }
      ]
    },
    {
      "cell_type": "markdown",
      "metadata": {
        "id": "MWKwT9zx1Xkp"
      },
      "source": [
        "## Lab 19.2"
      ]
    },
    {
      "cell_type": "code",
      "metadata": {
        "colab": {
          "base_uri": "https://localhost:8080/"
        },
        "id": "ZxKnATb61bE6",
        "outputId": "9018f549-558b-4ad4-98da-97c7258f9ddb"
      },
      "source": [
        "%%writefile lab.c\n",
        "#include <stdio.h>\n",
        "\n",
        "int main()\n",
        "{\n",
        "    int i;\n",
        "    int cumu_mul=1;\n",
        "    // Cumulative Multiply - > คูณสะสม\n",
        "    for(i=1;;i++)\n",
        "    {\n",
        "        cumu_mul*=i;\n",
        "        if(cumu_mul>36000000) break;\n",
        "    }\n",
        "    printf(\"cumu_mul Number until-> 36,000,000 = %d and stop at i=%d\",cumu_mul,i);\n",
        "}"
      ],
      "execution_count": 84,
      "outputs": [
        {
          "output_type": "stream",
          "name": "stdout",
          "text": [
            "Overwriting lab.c\n"
          ]
        }
      ]
    },
    {
      "cell_type": "code",
      "metadata": {
        "colab": {
          "base_uri": "https://localhost:8080/"
        },
        "id": "7HvLKYBQ2AVo",
        "outputId": "25d43fd6-63f3-4ebd-873c-aea0a4541c07"
      },
      "source": [
        "!gcc -Wall lab.c -o lab\n",
        "!./lab"
      ],
      "execution_count": 85,
      "outputs": [
        {
          "output_type": "stream",
          "name": "stdout",
          "text": [
            "cumu_mul Number until-> 36,000,000 = 39916800 and stop at i=11"
          ]
        }
      ]
    },
    {
      "cell_type": "markdown",
      "metadata": {
        "id": "gl6z0AYW66_w"
      },
      "source": [
        "## Lab 20"
      ]
    },
    {
      "cell_type": "code",
      "metadata": {
        "colab": {
          "base_uri": "https://localhost:8080/"
        },
        "id": "rwV3gktA7eUk",
        "outputId": "2410e060-db4d-44a2-f371-3f873d1476bf"
      },
      "source": [
        "%%writefile lab.c\n",
        "#include <stdio.h>\n",
        "\n",
        "int main()\n",
        "{\n",
        "    int i=1;\n",
        "    while(i<=12)\n",
        "    {\n",
        "        printf(\"2 x %d = %d \\n\",i,2*i);\n",
        "        i++;\n",
        "    }\n",
        " \n",
        "}"
      ],
      "execution_count": 89,
      "outputs": [
        {
          "output_type": "stream",
          "name": "stdout",
          "text": [
            "Overwriting lab.c\n"
          ]
        }
      ]
    },
    {
      "cell_type": "code",
      "metadata": {
        "colab": {
          "base_uri": "https://localhost:8080/"
        },
        "id": "8AIz32a17XcY",
        "outputId": "7d5dd336-dc14-471e-9e73-f77b88cd633d"
      },
      "source": [
        "!gcc -Wall lab.c -o lab\n",
        "!./lab"
      ],
      "execution_count": 90,
      "outputs": [
        {
          "output_type": "stream",
          "name": "stdout",
          "text": [
            "2 x 1 = 2 \n",
            "2 x 2 = 4 \n",
            "2 x 3 = 6 \n",
            "2 x 4 = 8 \n",
            "2 x 5 = 10 \n",
            "2 x 6 = 12 \n",
            "2 x 7 = 14 \n",
            "2 x 8 = 16 \n",
            "2 x 9 = 18 \n",
            "2 x 10 = 20 \n",
            "2 x 11 = 22 \n",
            "2 x 12 = 24 \n"
          ]
        }
      ]
    },
    {
      "cell_type": "markdown",
      "metadata": {
        "id": "eno3Uzh79jDi"
      },
      "source": [
        "## Lab 20.1"
      ]
    },
    {
      "cell_type": "code",
      "metadata": {
        "colab": {
          "base_uri": "https://localhost:8080/"
        },
        "id": "FR0PXhU89iqM",
        "outputId": "269e4349-e892-4529-b603-8a7753ae94e8"
      },
      "source": [
        "%%writefile lab.c\n",
        "#include <stdio.h>\n",
        "#include <time.h>\n",
        "#include <stdlib.h>\n",
        "\n",
        "int main()\n",
        "{\n",
        "    srand(time(NULL)); // สำหรับสุ่มเลข เพื่อให้สุ่มไม่ซ้ำกัน เราก้บอกเวลาให้กับ func random\n",
        "    int r = rand()%10+1;\n",
        "    //printf(\"Randomized Number = %d \\n\",r); // เฉลยเลขที่ให้ทาย\n",
        "    while(1)\n",
        "    {\n",
        "        int num;\n",
        "        printf(\"Guess a Number (1-10) : \"); scanf(\"%d\",&num);\n",
        "        if(num==r)\n",
        "        {\n",
        "            printf(\"Correct! Number is %d\",r); // บอกผู้เล่นว่าทายถูก\n",
        "            break; // จบLoop / จบโปรแกรม\n",
        "        }\n",
        "        else if(num<r)\n",
        "        {\n",
        "            printf(\"Number is too low \\n\"); // บอกผู้เล่นว่าทายต่ำกว่า\n",
        "        }\n",
        "        else if(num>r)\n",
        "        {\n",
        "            printf(\"Number is too high \\n\"); // บอกผู้เล่นว่าทายสูงกว่า\n",
        "        }\n",
        "    }\n",
        "}"
      ],
      "execution_count": 116,
      "outputs": [
        {
          "output_type": "stream",
          "name": "stdout",
          "text": [
            "Overwriting lab.c\n"
          ]
        }
      ]
    },
    {
      "cell_type": "code",
      "metadata": {
        "colab": {
          "base_uri": "https://localhost:8080/"
        },
        "id": "KtBIeN2t_AFe",
        "outputId": "a3d5a1fc-7a6c-4ebc-9283-344480e40ae4"
      },
      "source": [
        "!gcc -Wall lab.c -o lab\n",
        "!./lab"
      ],
      "execution_count": 117,
      "outputs": [
        {
          "output_type": "stream",
          "name": "stdout",
          "text": [
            "Guess a Number (1-10) : 1\n",
            "Number is too low \n",
            "Guess a Number (1-10) : 5\n",
            "Number is too high \n",
            "Guess a Number (1-10) : 3\n",
            "Correct! Number is 3"
          ]
        }
      ]
    }
  ]
}